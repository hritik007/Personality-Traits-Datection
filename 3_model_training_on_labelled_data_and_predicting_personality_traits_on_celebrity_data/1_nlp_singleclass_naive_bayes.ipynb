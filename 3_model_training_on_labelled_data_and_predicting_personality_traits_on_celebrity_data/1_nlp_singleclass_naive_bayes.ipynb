{
 "cells": [
  {
   "cell_type": "code",
   "execution_count": 53,
   "metadata": {},
   "outputs": [],
   "source": [
    "# Importing the libraries\n",
    "import numpy as np\n",
    "import matplotlib.pyplot as plt\n",
    "import pandas as pd"
   ]
  },
  {
   "cell_type": "code",
   "execution_count": 60,
   "metadata": {},
   "outputs": [
    {
     "output_type": "execute_result",
     "data": {
      "text/plain": "                                                 Review  Extroversion  \\\n0     \"Well, right now I just woke up from a mid-day...             0   \n1     Well, here we go with the stream of consciousn...             0   \n2     \"An open keyboard and buttons to push. The thi...             0   \n3     I can't believe it!  It's really happening!  M...             1   \n4     \"Well, here I go with the good old stream of c...             1   \n...                                                 ...           ...   \n2447       I'm home. wanted to go to bed but remembe...             0   \n2448       Stream of consiousnesssskdj. How do you s...             1   \n2449  It is Wednesday, December 8th and a lot has be...             0   \n2450  \"Man this week has been hellish. Anyways, now ...             0   \n2451  I have just gotten off the phone with brady. I...             0   \n\n      Neuroticism  Agreeableness  Conscientiousness  Openness  \n0               1              1                  0         1  \n1               0              1                  0         0  \n2               1              0                  1         1  \n3               0              1                  1         0  \n4               0              1                  0         1  \n...           ...            ...                ...       ...  \n2447            1              0                  1         0  \n2448            1              0                  0         1  \n2449            0              1                  0         0  \n2450            1              0                  0         1  \n2451            1              1                  0         1  \n\n[2452 rows x 6 columns]",
      "text/html": "<div>\n<style scoped>\n    .dataframe tbody tr th:only-of-type {\n        vertical-align: middle;\n    }\n\n    .dataframe tbody tr th {\n        vertical-align: top;\n    }\n\n    .dataframe thead th {\n        text-align: right;\n    }\n</style>\n<table border=\"1\" class=\"dataframe\">\n  <thead>\n    <tr style=\"text-align: right;\">\n      <th></th>\n      <th>Review</th>\n      <th>Extroversion</th>\n      <th>Neuroticism</th>\n      <th>Agreeableness</th>\n      <th>Conscientiousness</th>\n      <th>Openness</th>\n    </tr>\n  </thead>\n  <tbody>\n    <tr>\n      <th>0</th>\n      <td>\"Well, right now I just woke up from a mid-day...</td>\n      <td>0</td>\n      <td>1</td>\n      <td>1</td>\n      <td>0</td>\n      <td>1</td>\n    </tr>\n    <tr>\n      <th>1</th>\n      <td>Well, here we go with the stream of consciousn...</td>\n      <td>0</td>\n      <td>0</td>\n      <td>1</td>\n      <td>0</td>\n      <td>0</td>\n    </tr>\n    <tr>\n      <th>2</th>\n      <td>\"An open keyboard and buttons to push. The thi...</td>\n      <td>0</td>\n      <td>1</td>\n      <td>0</td>\n      <td>1</td>\n      <td>1</td>\n    </tr>\n    <tr>\n      <th>3</th>\n      <td>I can't believe it!  It's really happening!  M...</td>\n      <td>1</td>\n      <td>0</td>\n      <td>1</td>\n      <td>1</td>\n      <td>0</td>\n    </tr>\n    <tr>\n      <th>4</th>\n      <td>\"Well, here I go with the good old stream of c...</td>\n      <td>1</td>\n      <td>0</td>\n      <td>1</td>\n      <td>0</td>\n      <td>1</td>\n    </tr>\n    <tr>\n      <th>...</th>\n      <td>...</td>\n      <td>...</td>\n      <td>...</td>\n      <td>...</td>\n      <td>...</td>\n      <td>...</td>\n    </tr>\n    <tr>\n      <th>2447</th>\n      <td>I'm home. wanted to go to bed but remembe...</td>\n      <td>0</td>\n      <td>1</td>\n      <td>0</td>\n      <td>1</td>\n      <td>0</td>\n    </tr>\n    <tr>\n      <th>2448</th>\n      <td>Stream of consiousnesssskdj. How do you s...</td>\n      <td>1</td>\n      <td>1</td>\n      <td>0</td>\n      <td>0</td>\n      <td>1</td>\n    </tr>\n    <tr>\n      <th>2449</th>\n      <td>It is Wednesday, December 8th and a lot has be...</td>\n      <td>0</td>\n      <td>0</td>\n      <td>1</td>\n      <td>0</td>\n      <td>0</td>\n    </tr>\n    <tr>\n      <th>2450</th>\n      <td>\"Man this week has been hellish. Anyways, now ...</td>\n      <td>0</td>\n      <td>1</td>\n      <td>0</td>\n      <td>0</td>\n      <td>1</td>\n    </tr>\n    <tr>\n      <th>2451</th>\n      <td>I have just gotten off the phone with brady. I...</td>\n      <td>0</td>\n      <td>1</td>\n      <td>1</td>\n      <td>0</td>\n      <td>1</td>\n    </tr>\n  </tbody>\n</table>\n<p>2452 rows × 6 columns</p>\n</div>"
     },
     "metadata": {},
     "execution_count": 60
    }
   ],
   "source": [
    "dataset = pd.read_csv(\"improved_personality_traits_datection_dataset.csv\")\n",
    "dataset.drop(dataset.columns[0], axis = 1, inplace = True) \n",
    "dataset"
   ]
  },
  {
   "cell_type": "code",
   "execution_count": 61,
   "metadata": {},
   "outputs": [
    {
     "output_type": "execute_result",
     "data": {
      "text/plain": "0       \"Well, right now I just woke up from a mid-day...\n1       Well, here we go with the stream of consciousn...\n2       \"An open keyboard and buttons to push. The thi...\n3       I can't believe it!  It's really happening!  M...\n4       \"Well, here I go with the good old stream of c...\n                              ...                        \n2447         I'm home. wanted to go to bed but remembe...\n2448         Stream of consiousnesssskdj. How do you s...\n2449    It is Wednesday, December 8th and a lot has be...\n2450    \"Man this week has been hellish. Anyways, now ...\n2451    I have just gotten off the phone with brady. I...\nName: Review, Length: 2452, dtype: object"
     },
     "metadata": {},
     "execution_count": 61
    }
   ],
   "source": [
    "dataset['Review']"
   ]
  },
  {
   "cell_type": "code",
   "execution_count": 62,
   "metadata": {},
   "outputs": [
    {
     "output_type": "stream",
     "name": "stderr",
     "text": "[nltk_data] Downloading package stopwords to /home/hritik/nltk_data...\n[nltk_data]   Package stopwords is already up-to-date!\n"
    }
   ],
   "source": [
    "# Cleaning the texts\n",
    "import re\n",
    "import nltk\n",
    "nltk.download('stopwords')\n",
    "from nltk.corpus import stopwords\n",
    "from nltk.stem.porter import PorterStemmer"
   ]
  },
  {
   "cell_type": "code",
   "execution_count": 63,
   "metadata": {},
   "outputs": [],
   "source": [
    "corpus = [] #cleaned reviews\n",
    "\n",
    "for i in range(len(dataset)):\n",
    "    review = re.sub('[^a-zA-Z]', ' ', dataset['Review'][i])\n",
    "    review = review.lower()\n",
    "    review = review.split()\n",
    "    ps = PorterStemmer()\n",
    "    review = [ps.stem(word) for word in review if not word in set(stopwords.words('english'))]\n",
    "    review = ' '.join(review)\n",
    "    corpus.append(review)"
   ]
  },
  {
   "cell_type": "code",
   "execution_count": 64,
   "metadata": {},
   "outputs": [
    {
     "output_type": "execute_result",
     "data": {
      "text/plain": "2452"
     },
     "metadata": {},
     "execution_count": 64
    }
   ],
   "source": [
    "len(corpus)"
   ]
  },
  {
   "cell_type": "code",
   "execution_count": 65,
   "metadata": {},
   "outputs": [
    {
     "output_type": "execute_result",
     "data": {
      "text/plain": "'english second languag probabl grammar mistak phrase make sens watch realli good movi one movi realli keep think anyway want talk know talk lot read chose lot read subject abl handl matter organ correctli time busi better academ result alway like lot thing organ time better sit front tv practic noth love though prefer busi lot respons semest take hour per week also student organ belli danc class intramur soccer besid adapt new univers freshman idea like task seem pretti pointless useless like write whatev french would best defin n import quoi love franc realli miss countri think ever live know strang feel stay us realli want know end find tempt work marri guy well know sixth sens life give mani turn life like box chocol never know get heheheh forrest gump wonder tom hank right last movi coupl year ago new one retir dedic profit career left mother might think lot know miss time realli happi know follow dream florent abl dump someth extrem difficult use weekli call although love like someon think want boy austin need guy like compromis someon life turn easier boyfriend think realiz depend person famili friend men man least man would harem would surround sound pretti cool uh think futur life extremist feminist understood titl fight women right life one strang feel get futur life life go dedic succeed life success someth prestig power money someon qualifi thing get ambiti person end get want see never know life like piano depend play philosoph today box chocol piano superfici phrase commerci alway use explain someth like religion holi sake complic thing mani war death usual bring stupid thing like today think lot pinochet well whatev religion opium mass anoth commerci phrase true marx commun tonight continu read hobb polit system quiz life reduc read read read like said emphas like respons'"
     },
     "metadata": {},
     "execution_count": 65
    }
   ],
   "source": [
    "corpus[0]"
   ]
  },
  {
   "cell_type": "code",
   "execution_count": 66,
   "metadata": {},
   "outputs": [],
   "source": [
    "# Creating the Bag of Words model\n",
    "from sklearn.feature_extraction.text import CountVectorizer #to create bag of words sparse matrix\n",
    "cv = CountVectorizer(max_features = 1500)\n",
    "\n",
    "X = cv.fit_transform(corpus).toarray()\n",
    "y = dataset.iloc[:, 1].values\n",
    "y=y.astype('int') # coz  y was object, so sklearn can not recognize it's type, so converting to int\n",
    "\n",
    "#we have not done dimentionality reduction, but still we are ignoring that"
   ]
  },
  {
   "cell_type": "code",
   "execution_count": 67,
   "metadata": {},
   "outputs": [
    {
     "output_type": "stream",
     "name": "stdout",
     "text": "[[0 1 0 ... 0 0 0]\n [0 0 0 ... 0 0 0]\n [0 0 0 ... 0 0 0]\n ...\n [0 0 0 ... 0 0 0]\n [0 0 0 ... 0 0 0]\n [0 3 0 ... 0 0 0]]\n"
    }
   ],
   "source": [
    "# source\n",
    "print(X) #a sparse matrix (2d array)(2452 x 1500)\n",
    "#1 column for each word\n",
    "#1 row for each review"
   ]
  },
  {
   "cell_type": "code",
   "execution_count": 68,
   "metadata": {
    "tags": [
     "outputPrepend"
    ]
   },
   "outputs": [
    {
     "output_type": "stream",
     "name": "stdout",
     "text": "[0 0 0 ... 0 0 0]\n"
    }
   ],
   "source": [
    "print(y)"
   ]
  },
  {
   "cell_type": "code",
   "execution_count": 69,
   "metadata": {},
   "outputs": [],
   "source": [
    "# Splitting the dataset into the Training set and Test set\n",
    "from sklearn.model_selection import train_test_split\n",
    "X_train, X_test, y_train, y_test = train_test_split(X, y, test_size = 0.20, random_state = 0)\n",
    "\n",
    "#dataset is small, hence we are not expecting so much accuracy"
   ]
  },
  {
   "cell_type": "code",
   "execution_count": 70,
   "metadata": {},
   "outputs": [
    {
     "output_type": "execute_result",
     "data": {
      "text/plain": "GaussianNB(priors=None, var_smoothing=1e-09)"
     },
     "metadata": {},
     "execution_count": 70
    }
   ],
   "source": [
    "# Fitting Naive Bayes to the Training set\n",
    "from sklearn.naive_bayes import GaussianNB\n",
    "classifier = GaussianNB()\n",
    "classifier.fit(X_train, y_train)"
   ]
  },
  {
   "cell_type": "code",
   "execution_count": 71,
   "metadata": {
    "tags": [
     "outputPrepend"
    ]
   },
   "outputs": [
    {
     "output_type": "stream",
     "name": "stdout",
     "text": "[1 1 0 1 0 1 0 1 1 0 0 0 0 1 0 1 0 1 1 1 1 1 1 1 1 0 0 0 1 0 1 1 0 1 0 1 0\n 1 1 0 0 1 0 0 1 0 1 0 0 0 1 1 1 1 0 0 1 0 1 1 0 0 1 1 1 0 1 0 0 1 0 1 1 0\n 0 1 0 0 0 0 1 1 1 0 1 1 0 1 0 1 1 1 0 1 1 0 0 1 1 0 1 1 1 0 1 1 1 1 0 0 0\n 1 1 0 0 1 0 1 1 0 1 0 1 1 0 1 0 0 0 1 1 1 0 1 1 0 0 0 1 0 1 0 1 1 1 1 1 1\n 1 0 1 1 0 1 0 1 1 0 1 0 1 0 1 1 1 1 1 1 1 1 1 0 1 1 0 0 0 0 0 0 0 0 1 1 0\n 0 1 0 1 1 0 0 1 1 1 1 1 1 1 0 1 0 1 0 1 1 0 0 1 1 0 1 0 1 0 1 1 0 0 1 0 1\n 0 0 1 0 1 1 1 1 1 0 0 0 1 1 1 0 0 0 1 1 1 1 1 0 0 1 1 1 1 0 0 1 1 0 1 0 1\n 0 1 1 0 0 1 1 1 1 1 0 0 1 0 1 1 0 1 0 1 1 1 0 0 1 1 0 1 1 1 0 0 1 1 0 1 1\n 1 1 1 1 0 0 0 1 0 1 1 1 1 1 0 0 1 0 1 1 1 1 1 1 1 0 0 1 1 0 1 0 0 1 1 0 1\n 0 0 0 1 1 0 1 0 0 1 1 0 1 0 0 0 0 1 0 0 1 0 1 1 1 0 0 0 0 1 0 0 1 0 0 0 1\n 1 0 1 0 1 1 0 1 0 1 0 1 0 1 0 1 1 1 0 1 1 1 0 1 0 1 0 0 0 1 0 0 0 1 1 1 1\n 1 1 1 1 1 0 1 1 1 0 0 0 0 1 1 0 0 1 1 0 0 1 0 0 1 1 1 0 0 0 1 0 1 1 1 1 1\n 1 1 1 0 1 0 0 0 1 1 1 0 1 1 0 1 0 0 1 1 0 0 1 0 1 1 0 1 0 1 1 1 1 1 0 1 0\n 1 0 0 0 1 1 0 0 0 0]\n"
    }
   ],
   "source": [
    "# Predicting the Test set results\n",
    "y_pred = classifier.predict(X_test)\n",
    "print(y_pred)"
   ]
  },
  {
   "cell_type": "code",
   "execution_count": 72,
   "metadata": {},
   "outputs": [
    {
     "output_type": "execute_result",
     "data": {
      "text/plain": "491"
     },
     "metadata": {},
     "execution_count": 72
    }
   ],
   "source": [
    "len(y_pred)"
   ]
  },
  {
   "cell_type": "code",
   "execution_count": 73,
   "metadata": {},
   "outputs": [
    {
     "output_type": "stream",
     "name": "stdout",
     "text": "[[ 99 128]\n [115 149]]\n"
    }
   ],
   "source": [
    "# Making the Confusion Matrix\n",
    "from sklearn.metrics import confusion_matrix\n",
    "cm = confusion_matrix(y_test, y_pred)\n",
    "\n",
    "print(cm)"
   ]
  },
  {
   "cell_type": "code",
   "execution_count": 74,
   "metadata": {},
   "outputs": [
    {
     "output_type": "execute_result",
     "data": {
      "text/plain": "0.505091649694501"
     },
     "metadata": {},
     "execution_count": 74
    }
   ],
   "source": [
    "from sklearn.metrics import accuracy_score\n",
    "accuracy_score(y_test, y_pred)\n",
    "\n",
    "#testing accuracy"
   ]
  },
  {
   "cell_type": "code",
   "execution_count": 78,
   "metadata": {},
   "outputs": [
    {
     "output_type": "execute_result",
     "data": {
      "text/plain": "sklearn.naive_bayes.GaussianNB"
     },
     "metadata": {},
     "execution_count": 78
    }
   ],
   "source": [
    "type(classifier)"
   ]
  }
 ],
 "metadata": {
  "language_info": {
   "name": "python",
   "codemirror_mode": {
    "name": "ipython",
    "version": 3
   },
   "version": "3.7.6-final"
  },
  "orig_nbformat": 2,
  "file_extension": ".py",
  "mimetype": "text/x-python",
  "name": "python",
  "npconvert_exporter": "python",
  "pygments_lexer": "ipython3",
  "version": 3,
  "kernelspec": {
   "name": "python3",
   "display_name": "Python 3"
  }
 },
 "nbformat": 4,
 "nbformat_minor": 2
}