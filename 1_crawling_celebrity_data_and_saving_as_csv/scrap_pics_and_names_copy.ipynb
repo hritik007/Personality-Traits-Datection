{
 "cells": [
  {
   "cell_type": "code",
   "execution_count": 3,
   "metadata": {},
   "outputs": [],
   "source": [
    "from bs4 import *\n",
    "import requests as req\n",
    "import os"
   ]
  },
  {
   "cell_type": "code",
   "execution_count": 4,
   "metadata": {},
   "outputs": [],
   "source": [
    "#imdb website (bollywood top 100 celebrities)\n",
    "r = req.get(\"https://www.imdb.com/list/ls002913270/\")"
   ]
  },
  {
   "cell_type": "code",
   "execution_count": 5,
   "metadata": {},
   "outputs": [
    {
     "output_type": "execute_result",
     "data": {
      "text/plain": "'\\n\\n\\n\\n<!DOCTYPE html>\\n<html\\n    xmlns:og=\"http://ogp.me/ns#\"\\n    xmlns:fb=\"http://www.facebook.com/2008/fbml\">\\n    <head>\\n         \\n        <meta charset=\"utf-8\">\\n        <meta http-equiv=\"X-UA-Compatible\" content=\"IE=edge\">\\n\\n    <meta name=\"apple-itunes-app\" content=\"app-id=342792525, app-argument=imdb:///list/ls002913270?src=mdot\">\\n\\n\\n\\n        <script type=\"text/javascript\">var IMDbTimer={starttime: new Date().getTime(),pt:\\'java\\'};</script>\\n\\n<script>\\n    if (typeof uet == \\'function\\') {\\n      uet(\"bb\", \"LoadTitle\", {wb: 1});\\n    }\\n</script>\\n  <script>(function(t){ (t.events = t.events || {})[\"csm_head_pre_title\"] = new Date().getTime(); })(IMDbTimer);</script>\\n        <title>Indian Celebrities - IMDb</title>\\n  <script>(function(t){ (t.events = t.events || {})[\"csm_head_post_title\"] = new Date().getTime(); })(IMDbTimer);</script>\\n<script>\\n    if (typeof uet == \\'function\\') {\\n      uet(\"be\", \"LoadTitle\", {wb: 1});\\n    }\\n</script>\\n<script>\\n    if (typeof uex == \\'function\\') {\\n      uex(\"ld\", '"
     },
     "metadata": {},
     "execution_count": 5
    }
   ],
   "source": [
    "r.text[0:1000]"
   ]
  },
  {
   "cell_type": "code",
   "execution_count": 6,
   "metadata": {},
   "outputs": [],
   "source": [
    "soup = BeautifulSoup(r.text, \"html.parser\")"
   ]
  },
  {
   "cell_type": "code",
   "execution_count": 7,
   "metadata": {},
   "outputs": [],
   "source": [
    "temp = soup.select('img[src^=\"https://m.media-amazon.com/images/M/\"]')"
   ]
  },
  {
   "cell_type": "code",
   "execution_count": 8,
   "metadata": {},
   "outputs": [],
   "source": [
    "links = []\n",
    "for t in temp:\n",
    "    links.append(t['src']) #every link has 'src'"
   ]
  },
  {
   "cell_type": "code",
   "execution_count": 9,
   "metadata": {},
   "outputs": [
    {
     "output_type": "stream",
     "name": "stdout",
     "text": "https://m.media-amazon.com/images/M/MV5BZDk1ZmU0NGYtMzQ2Yi00N2NjLTkyNWEtZWE2NTU4NTJiZGUzXkEyXkFqcGdeQXVyMTExNDQ2MTI@._V1_UY209_CR3,0,140,209_AL_.jpg\n\nhttps://m.media-amazon.com/images/M/MV5BMjAwMjk3NDUzN15BMl5BanBnXkFtZTcwNjI4MTY0NA@@._V1_UX140_CR0,0,140,209_AL_.jpg\n\nhttps://m.media-amazon.com/images/M/MV5BMjMwNTIxODg0OF5BMl5BanBnXkFtZTgwODg2NzM0OTE@._V1_UY209_CR7,0,140,209_AL_.jpg\n\nhttps://m.media-amazon.com/images/M/MV5BYjFjZGMwNWEtYWYwZi00NjdiLTk3NDMtOGVlOTkwOWFhYjE0XkEyXkFqcGdeQXVyMTA0NTY2NTIz._V1_UY209_CR34,0,140,209_AL_.jpg\n\nhttps://m.media-amazon.com/images/M/MV5BMjAyNjM4NTAwN15BMl5BanBnXkFtZTcwNDkxNzQzNg@@._V1_UY209_CR87,0,140,209_AL_.jpg\n\nhttps://m.media-amazon.com/images/M/MV5BMzY4NTkxMzc3OF5BMl5BanBnXkFtZTgwMTc1MzY3OTE@._V1_UY209_CR2,0,140,209_AL_.jpg\n\nhttps://m.media-amazon.com/images/M/MV5BZjYwYjE4YjQtMTFmMi00NTlhLThjZjUtZTIyMTczMGU2ZDE5XkEyXkFqcGdeQXVyNzM2NzM0NDU@._V1_UX140_CR0,0,140,209_AL_.jpg\n\nhttps://m.media-amazon.com/images/M/MV5BMjAxNzUwNjExOV5BMl5BanBnXkFtZTcwNDUyMTUxNw@@._V1_UY209_CR70,0,140,209_AL_.jpg\n\nhttps://m.media-amazon.com/images/M/MV5BNTk1OTUxMzIzMV5BMl5BanBnXkFtZTcwMzMxMjI0Nw@@._V1_UY209_CR6,0,140,209_AL_.jpg\n\nhttps://m.media-amazon.com/images/M/MV5BMTk2ODU5Mjk2MV5BMl5BanBnXkFtZTcwODEzNDg3OA@@._V1_UX140_CR0,0,140,209_AL_.jpg\n\nhttps://m.media-amazon.com/images/M/MV5BNGM5YmYwNjUtNzQyYS00OGY0LTljZDAtMDNiMjhiOTFiMzRiXkEyXkFqcGdeQXVyMTExNDQ2MTI@._V1_UY209_CR2,0,140,209_AL_.jpg\n\nhttps://m.media-amazon.com/images/M/MV5BMTk1MzY4MzgxM15BMl5BanBnXkFtZTgwMTgyMjkyODE@._V1_UY209_CR27,0,140,209_AL_.jpg\n\nhttps://m.media-amazon.com/images/M/MV5BNGFlYzAyYjgtNzRjNS00NmE4LTliOGYtYzBkYzU5MzRhMDM0XkEyXkFqcGdeQXVyMTExNDQ2MTI@._V1_UX140_CR0,0,140,209_AL_.jpg\n\nhttps://m.media-amazon.com/images/M/MV5BMjM5MTMyNDI0OV5BMl5BanBnXkFtZTgwNTEzMjgzOTE@._V1_UX140_CR0,0,140,209_AL_.jpg\n\nhttps://m.media-amazon.com/images/M/MV5BODI4NDY1NzkyM15BMl5BanBnXkFtZTgwNzM3MDM0OTE@._V1_UY209_CR13,0,140,209_AL_.jpg\n\nhttps://m.media-amazon.com/images/M/MV5BMjEyMjEyODkzN15BMl5BanBnXkFtZTcwODkxMTY1Mg@@._V1_UX140_CR0,0,140,209_AL_.jpg\n\nhttps://m.media-amazon.com/images/M/MV5BMTY1MDUyMjI1N15BMl5BanBnXkFtZTYwMjg4MjA0._V1_UX140_CR0,0,140,209_AL_.jpg\n\nhttps://m.media-amazon.com/images/M/MV5BOTUzYzU0MmQtZTkxMi00MDRlLTkyZGUtOTY1YzkzOGIyMjAwXkEyXkFqcGdeQXVyNjY1MTg4Mzc@._V1_UY209_CR7,0,140,209_AL_.jpg\n\nhttps://m.media-amazon.com/images/M/MV5BMTA3MDcyNzkxMjZeQTJeQWpwZ15BbWU3MDUxMTU4Njg@._V1_UY209_CR1,0,140,209_AL_.jpg\n\nhttps://m.media-amazon.com/images/M/MV5BMjA4MjkyMzAxNl5BMl5BanBnXkFtZTcwOTEyMjMyMg@@._V1_UX140_CR0,0,140,209_AL_.jpg\n\nhttps://m.media-amazon.com/images/M/MV5BMzg0NTM0MjYxN15BMl5BanBnXkFtZTcwMzY1NTAzMQ@@._V1_UY209_CR68,0,140,209_AL_.jpg\n\nhttps://m.media-amazon.com/images/M/MV5BMTAxNjkwODczMzleQTJeQWpwZ15BbWU3MDY2NzA4MTg@._V1_UY209_CR5,0,140,209_AL_.jpg\n\nhttps://m.media-amazon.com/images/M/MV5BNTk0OTFkZGItYTQxMi00YTUwLTlkMGEtMTIyZDNlNDc0MzRlXkEyXkFqcGdeQXVyMTgzNTY5OTc@._V1_UY209_CR34,0,140,209_AL_.jpg\n\nhttps://m.media-amazon.com/images/M/MV5BNzEwNDgwMTk3Nl5BMl5BanBnXkFtZTgwNjMwOTU4MDI@._V1_UY209_CR14,0,140,209_AL_.jpg\n\nhttps://m.media-amazon.com/images/M/MV5BMjI4ODU1NTU1MF5BMl5BanBnXkFtZTgwMzM4NDczMDE@._V1_UY209_CR86,0,140,209_AL_.jpg\n\nhttps://m.media-amazon.com/images/M/MV5BNjM3NzY5ODkwNl5BMl5BanBnXkFtZTcwMDUwMDgxOA@@._V1_UY209_CR7,0,140,209_AL_.jpg\n\nhttps://m.media-amazon.com/images/M/MV5BNmMwOGYwMjUtN2M5My00ODIxLWI3ZjctODM2MGI4OGQzOWM0XkEyXkFqcGdeQXVyMTExNDQ2MTI@._V1_UY209_CR6,0,140,209_AL_.jpg\n\nhttps://m.media-amazon.com/images/M/MV5BMTg4MjAxMzk3NV5BMl5BanBnXkFtZTcwODUzMzQzMQ@@._V1_UY209_CR17,0,140,209_AL_.jpg\n\nhttps://m.media-amazon.com/images/M/MV5BMjIwMjQ5MTQ4N15BMl5BanBnXkFtZTgwOTIyMDU0OTE@._V1_UY209_CR4,0,140,209_AL_.jpg\n\nhttps://m.media-amazon.com/images/M/MV5BMjEwOTA2MjMwMl5BMl5BanBnXkFtZTcwODc3MDgxOA@@._V1_UY209_CR3,0,140,209_AL_.jpg\n\nhttps://m.media-amazon.com/images/M/MV5BMTQ4OTQ4NTA2OF5BMl5BanBnXkFtZTgwMjQ3OTczOTE@._V1_UX140_CR0,0,140,209_AL_.jpg\n\nhttps://m.media-amazon.com/images/M/MV5BMTUyNjI2NTg3M15BMl5BanBnXkFtZTcwNDEzNDg3OA@@._V1_UX140_CR0,0,140,209_AL_.jpg\n\nhttps://m.media-amazon.com/images/M/MV5BMWYyYzhkYjItNDAyMi00ZTdhLWFjZGItM2M4ZGZjYjY5NjZhXkEyXkFqcGdeQXVyNjY1MTg4Mzc@._V1_UX140_CR0,0,140,209_AL_.jpg\n\nhttps://m.media-amazon.com/images/M/MV5BMTU0MjEzMjM4NV5BMl5BanBnXkFtZTgwNjUwMDMzOTE@._V1_UY209_CR14,0,140,209_AL_.jpg\n\nhttps://m.media-amazon.com/images/M/MV5BNDk2OTk5NjYwNl5BMl5BanBnXkFtZTcwMzMyMDQ4Mg@@._V1_UY209_CR88,0,140,209_AL_.jpg\n\nhttps://m.media-amazon.com/images/M/MV5BMjUyMWE5MjUtMDlkMC00ODc0LThkOTgtNjZhNDgyMTU5ZDhlXkEyXkFqcGdeQXVyMTExNDQ2MTI@._V1_UX140_CR0,0,140,209_AL_.jpg\n\nhttps://m.media-amazon.com/images/M/MV5BOTYwNTc1ODE0NF5BMl5BanBnXkFtZTgwNjU3OTA3MjI@._V1_UX140_CR0,0,140,209_AL_.jpg\n\nhttps://m.media-amazon.com/images/M/MV5BMTExOTcwMDU4NTReQTJeQWpwZ15BbWU3MDA0MjE1MTc@._V1_UY209_CR1,0,140,209_AL_.jpg\n\nhttps://m.media-amazon.com/images/M/MV5BZjQ4NWIwYzYtOTYwZC00ZDI4LWFmYWEtZjhmNTE3ODVhYzJkXkEyXkFqcGdeQXVyOTc1MzM5MA@@._V1_UY209_CR8,0,140,209_AL_.jpg\n\nhttps://m.media-amazon.com/images/M/MV5BMTVkMzhkNWItYmIwMy00MTJmLWE2OTItOTcwMjVlMzg4YzEzXkEyXkFqcGdeQXVyMjYwMDk5NjE@._V1_UY209_CR8,0,140,209_AL_.jpg\n\nhttps://m.media-amazon.com/images/M/MV5BMjZhOTQzNTEtNGY4NS00ZmQxLThkMDEtM2M4NDVjMjc0MWNlXkEyXkFqcGdeQXVyMTExNDQ2MTI@._V1_UY209_CR12,0,140,209_AL_.jpg\n\nhttps://m.media-amazon.com/images/M/MV5BMjc5NTM5NjUyMV5BMl5BanBnXkFtZTgwMDEwMzU1OTE@._V1_UX140_CR0,0,140,209_AL_.jpg\n\nhttps://m.media-amazon.com/images/M/MV5BMGU4Njg5MjgtNzIyNC00M2I0LThlYjAtZjZhMGJhOWNmMzA2L2ltYWdlXkEyXkFqcGdeQXVyMTExNDQ2MTI@._V1_UY209_CR3,0,140,209_AL_.jpg\n\nhttps://m.media-amazon.com/images/M/MV5BMTMyMDc5OTEyNl5BMl5BanBnXkFtZTcwMjczNzYwMw@@._V1_UY209_CR87,0,140,209_AL_.jpg\n\nhttps://m.media-amazon.com/images/M/MV5BNDg3NDgxNzY4NF5BMl5BanBnXkFtZTcwODMxODQzMg@@._V1_UY209_CR8,0,140,209_AL_.jpg\n\nhttps://m.media-amazon.com/images/M/MV5BMTgxMTUyNDg2NF5BMl5BanBnXkFtZTgwOTAyMTIzOTE@._V1_UY209_CR7,0,140,209_AL_.jpg\n\nhttps://m.media-amazon.com/images/M/MV5BMTkzOTgzNzYzMl5BMl5BanBnXkFtZTgwMTI0MzY3OTE@._V1_UY209_CR87,0,140,209_AL_.jpg\n\nhttps://m.media-amazon.com/images/M/MV5BNDI3Mjk2MjgzMl5BMl5BanBnXkFtZTcwODQwMjI1OQ@@._V1_UY209_CR2,0,140,209_AL_.jpg\n\nhttps://m.media-amazon.com/images/M/MV5BODA2ODQ5ODI3Nl5BMl5BanBnXkFtZTgwMDYwMDMzOTE@._V1_UY209_CR18,0,140,209_AL_.jpg\n\nhttps://m.media-amazon.com/images/M/MV5BMTk0ODU5NjAzMl5BMl5BanBnXkFtZTcwNDYyOTM5NA@@._V1_UY209_CR87,0,140,209_AL_.jpg\n\nhttps://m.media-amazon.com/images/M/MV5BMjI2OTk0NDQ0N15BMl5BanBnXkFtZTgwMDkxMTIzOTE@._V1_UX140_CR0,0,140,209_AL_.jpg\n\nhttps://m.media-amazon.com/images/M/MV5BNTcwODgyNDMtOTQxNS00MTlhLTkxYmMtNDg1OWIzODEzZjgyXkEyXkFqcGdeQXVyMTExNDQ2MTI@._V1_UY209_CR9,0,140,209_AL_.jpg\n\nhttps://m.media-amazon.com/images/M/MV5BMTU3NDM3NDM3Ml5BMl5BanBnXkFtZTgwMzk4ODEzOTE@._V1_UY209_CR8,0,140,209_AL_.jpg\n\nhttps://m.media-amazon.com/images/M/MV5BZTlhZjVlNzMtMzlhOC00ZWJlLTg1NzItZTU5NDNmNzFhZWU0XkEyXkFqcGdeQXVyMjkxNzQ1NDI@._V1_UY209_CR0,0,140,209_AL_.jpg\n\nhttps://m.media-amazon.com/images/M/MV5BMTQ4MDcyOTExOV5BMl5BanBnXkFtZTgwOTQyMDU0OTE@._V1_UY209_CR12,0,140,209_AL_.jpg\n\nhttps://m.media-amazon.com/images/M/MV5BYWE5MWNkYWQtZTZjZS00N2U0LTgzNzMtNzZkMzJmMWYzZWNkXkEyXkFqcGdeQXVyMTExNDQ2MTI@._V1_UY209_CR3,0,140,209_AL_.jpg\n\nhttps://m.media-amazon.com/images/M/MV5BMjI4Mjg2MjgxMV5BMl5BanBnXkFtZTgwNDYyMTIzOTE@._V1_UY209_CR88,0,140,209_AL_.jpg\n\nhttps://m.media-amazon.com/images/M/MV5BMjAxNDQyNDkxM15BMl5BanBnXkFtZTcwNTQyNTA0MQ@@._V1_UY209_CR87,0,140,209_AL_.jpg\n\nhttps://m.media-amazon.com/images/M/MV5BMzMyYTA0ZGItZmIwZC00ZjMzLThiZTEtNzRmZWM4MTRlMjJkXkEyXkFqcGdeQXVyNjY1MTg4Mzc@._V1_UY209_CR13,0,140,209_AL_.jpg\n\nhttps://m.media-amazon.com/images/M/MV5BMTk4MDc5NDk3MV5BMl5BanBnXkFtZTcwNTc5MDQ2NA@@._V1_UY209_CR87,0,140,209_AL_.jpg\n\nhttps://m.media-amazon.com/images/M/MV5BNzllMDk2OTQtYWQxYS00MDQwLWE5NmMtMmQ3NTMxMzNkMGM1XkEyXkFqcGdeQXVyNDUzOTQ5MjY@._V1_UX140_CR0,0,140,209_AL_.jpg\n\nhttps://m.media-amazon.com/images/M/MV5BMTc3MDYwMjcxNV5BMl5BanBnXkFtZTgwNDk0ODA0OTE@._V1_UX140_CR0,0,140,209_AL_.jpg\n\nhttps://m.media-amazon.com/images/M/MV5BNjE2MjYzMjg0NV5BMl5BanBnXkFtZTcwMTYwNzMxOA@@._V1_UY209_CR5,0,140,209_AL_.jpg\n\nhttps://m.media-amazon.com/images/M/MV5BMTY3OTc3NTg2OV5BMl5BanBnXkFtZTgwMjkzMDY3NTE@._V1_UY209_CR17,0,140,209_AL_.jpg\n\nhttps://m.media-amazon.com/images/M/MV5BNWFkODg2ZDgtMDVkOC00NGU2LTg5M2UtNGMwMzg2NTViOWYwXkEyXkFqcGdeQXVyNDUzOTQ5MjY@._V1_UY209_CR10,0,140,209_AL_.jpg\n\nhttps://m.media-amazon.com/images/M/MV5BMjQwNDUxMzY4Ml5BMl5BanBnXkFtZTgwMTgxMTIzOTE@._V1_UY209_CR6,0,140,209_AL_.jpg\n\nhttps://m.media-amazon.com/images/M/MV5BMTA3NzAwNjcwMjNeQTJeQWpwZ15BbWU4MDIyODgxMzkx._V1_UX140_CR0,0,140,209_AL_.jpg\n\nhttps://m.media-amazon.com/images/M/MV5BOTk4MDY4ODAwNl5BMl5BanBnXkFtZTcwNzQ0MjY2Nw@@._V1_UY209_CR87,0,140,209_AL_.jpg\n\nhttps://m.media-amazon.com/images/M/MV5BMTY0MDY2MDMwOV5BMl5BanBnXkFtZTgwNDE4MDM0OTE@._V1_UY209_CR6,0,140,209_AL_.jpg\n\nhttps://m.media-amazon.com/images/M/MV5BMTA2NTg0ODA1ODJeQTJeQWpwZ15BbWU4MDM0NDkxNTMy._V1_UY209_CR4,0,140,209_AL_.jpg\n\nhttps://m.media-amazon.com/images/M/MV5BMTA4NTg4NDQxMjheQTJeQWpwZ15BbWU4MDY0MzI4Mzkx._V1_UY209_CR87,0,140,209_AL_.jpg\n\nhttps://m.media-amazon.com/images/M/MV5BOTNkOTJhNGEtMWI1ZC00MTFlLTg0MGYtYzA5ZTA3NjVjMjM1XkEyXkFqcGdeQXVyMjYwMDk5NjE@._V1_UY209_CR5,0,140,209_AL_.jpg\n\nhttps://m.media-amazon.com/images/M/MV5BMTg3MDE2MzQ2M15BMl5BanBnXkFtZTgwNTIxMTIzOTE@._V1_UY209_CR9,0,140,209_AL_.jpg\n\nhttps://m.media-amazon.com/images/M/MV5BNzU2NTgwNzY1OF5BMl5BanBnXkFtZTcwMjQxNzcxOA@@._V1_UY209_CR87,0,140,209_AL_.jpg\n\nhttps://m.media-amazon.com/images/M/MV5BMTU2NzkzODA3OV5BMl5BanBnXkFtZTcwMzk2MDMyOA@@._V1_UX140_CR0,0,140,209_AL_.jpg\n\nhttps://m.media-amazon.com/images/M/MV5BNzI4NDQyMjU2MF5BMl5BanBnXkFtZTgwMzc4ODEzOTE@._V1_UX140_CR0,0,140,209_AL_.jpg\n\nhttps://m.media-amazon.com/images/M/MV5BMzExNzQ0OTE5Nl5BMl5BanBnXkFtZTgwMTU1MjcxMjE@._V1_UY209_CR34,0,140,209_AL_.jpg\n\nhttps://m.media-amazon.com/images/M/MV5BMzUxODk5MmEtZGQxOC00NzUxLWI5YTEtYWFjMjZmZTIwNTA5XkEyXkFqcGdeQXVyMTExNDQ2MTI@._V1_UY209_CR8,0,140,209_AL_.jpg\n\nhttps://m.media-amazon.com/images/M/MV5BZGI2MGUwYzQtZmVmNi00MDc3LWEwMzMtNTIzMWIzMDk5YzViL2ltYWdlXkEyXkFqcGdeQXVyMTExNDQ2MTI@._V1_UY209_CR10,0,140,209_AL_.jpg\n\nhttps://m.media-amazon.com/images/M/MV5BMTQ1OTA2ODc4Ml5BMl5BanBnXkFtZTcwODE4MDY3Mg@@._V1_UY209_CR3,0,140,209_AL_.jpg\n\nhttps://m.media-amazon.com/images/M/MV5BMTgxODI1NTI2MV5BMl5BanBnXkFtZTgwODgxODYyNjE@._V1_UY209_CR86,0,140,209_AL_.jpg\n\nhttps://m.media-amazon.com/images/M/MV5BMTk1NjU1NjkxN15BMl5BanBnXkFtZTcwNDI4MDMzMg@@._V1_UY209_CR7,0,140,209_AL_.jpg\n\nhttps://m.media-amazon.com/images/M/MV5BMTQyMjg4Mzk2M15BMl5BanBnXkFtZTcwMjE0MTg2OA@@._V1_UY209_CR18,0,140,209_AL_.jpg\n\nhttps://m.media-amazon.com/images/M/MV5BMTg0NTAzOTU4Ml5BMl5BanBnXkFtZTcwMzg1MjUyOA@@._V1_UX140_CR0,0,140,209_AL_.jpg\n\nhttps://m.media-amazon.com/images/M/MV5BMjA4MjYwNzAzM15BMl5BanBnXkFtZTcwMzUyMTUxNw@@._V1_UX140_CR0,0,140,209_AL_.jpg\n\nhttps://m.media-amazon.com/images/M/MV5BMjA0NjYxODI4MF5BMl5BanBnXkFtZTgwMDcwMDMzOTE@._V1_UX140_CR0,0,140,209_AL_.jpg\n\nhttps://m.media-amazon.com/images/M/MV5BMjMwMDMxOTQ1OV5BMl5BanBnXkFtZTcwNzIyMjcwNQ@@._V1_UY209_CR87,0,140,209_AL_.jpg\n\nhttps://m.media-amazon.com/images/M/MV5BMTU0ODQ2MjA5NF5BMl5BanBnXkFtZTYwMjczMjA0._V1_UY209_CR1,0,140,209_AL_.jpg\n\nhttps://m.media-amazon.com/images/M/MV5BYmJjYWZlN2UtZTBmNS00MjllLWIzZjEtYTljZTQ1ZDAzN2JiXkEyXkFqcGdeQXVyMTExNDQ2MTI@._V1_UY209_CR4,0,140,209_AL_.jpg\n\nhttps://m.media-amazon.com/images/M/MV5BZmRhMzE5YzYtZTllOC00ZGRmLTgzNmYtOTkxNjhmYjFmZjY3XkEyXkFqcGdeQXVyNDUzOTQ5MjY@._V1_UY209_CR1,0,140,209_AL_.jpg\n\nhttps://m.media-amazon.com/images/M/MV5BMTg0MTAyMzcwMl5BMl5BanBnXkFtZTcwMjUzNjcyNA@@._V1_UX140_CR0,0,140,209_AL_.jpg\n\nhttps://m.media-amazon.com/images/M/MV5BMTcxMDg5MzQ4MV5BMl5BanBnXkFtZTcwNTMzMDMxNw@@._V1_UY209_CR87,0,140,209_AL_.jpg\n\nhttps://m.media-amazon.com/images/M/MV5BMTU4ODM3ODA0Ml5BMl5BanBnXkFtZTgwNzA4MTgzMTE@._V1_UY209_CR87,0,140,209_AL_.jpg\n\nhttps://m.media-amazon.com/images/M/MV5BMjA4Nzk3MDU0OV5BMl5BanBnXkFtZTgwMTEyMDU0OTE@._V1_UX140_CR0,0,140,209_AL_.jpg\n\nhttps://m.media-amazon.com/images/M/MV5BMDVlYWIxNGEtZmZiZi00ZWNmLWI2NTEtYzQ2OTBjNDU2N2MxXkEyXkFqcGdeQXVyNDUzOTQ5MjY@._V1_UY209_CR13,0,140,209_AL_.jpg\n\nhttps://m.media-amazon.com/images/M/MV5BMTU5NTQwMTI0NV5BMl5BanBnXkFtZTcwNzQyNTgxOA@@._V1_UX140_CR0,0,140,209_AL_.jpg\n\nhttps://m.media-amazon.com/images/M/MV5BZmNlODEzM2YtOTUyOS00MDVmLTk4YzgtMzAxZmQ2ZDBkNTAyXkEyXkFqcGdeQXVyMTExNDQ2MTI@._V1_UY209_CR6,0,140,209_AL_.jpg\n\nhttps://m.media-amazon.com/images/M/MV5BMTM2Mzc1MDYxOV5BMl5BanBnXkFtZTcwMzc1MDQ4Nw@@._V1_UY209_CR9,0,140,209_AL_.jpg\n\n"
    }
   ],
   "source": [
    "for l in links:\n",
    "    print(l)\n",
    "    print()"
   ]
  },
  {
   "cell_type": "code",
   "execution_count": 10,
   "metadata": {},
   "outputs": [
    {
     "output_type": "execute_result",
     "data": {
      "text/plain": "98"
     },
     "metadata": {},
     "execution_count": 10
    }
   ],
   "source": [
    "len(links)"
   ]
  },
  {
   "cell_type": "code",
   "execution_count": 11,
   "metadata": {},
   "outputs": [
    {
     "output_type": "error",
     "ename": "FileExistsError",
     "evalue": "[WinError 183] Cannot create a file when that file already exists: 'scraped_photos'",
     "traceback": [
      "\u001b[1;31m---------------------------------------------------------------------------\u001b[0m",
      "\u001b[1;31mFileExistsError\u001b[0m                           Traceback (most recent call last)",
      "\u001b[1;32m<ipython-input-11-67e07d5fc6c9>\u001b[0m in \u001b[0;36m<module>\u001b[1;34m\u001b[0m\n\u001b[1;32m----> 1\u001b[1;33m \u001b[0mos\u001b[0m\u001b[1;33m.\u001b[0m\u001b[0mmkdir\u001b[0m\u001b[1;33m(\u001b[0m\u001b[1;34m'scraped_photos'\u001b[0m\u001b[1;33m)\u001b[0m \u001b[1;31m#create a directory\u001b[0m\u001b[1;33m\u001b[0m\u001b[1;33m\u001b[0m\u001b[0m\n\u001b[0m\u001b[0;32m      2\u001b[0m \u001b[0mi\u001b[0m\u001b[1;33m=\u001b[0m\u001b[1;33m-\u001b[0m\u001b[1;36m1\u001b[0m \u001b[1;31m#just to name images\u001b[0m\u001b[1;33m\u001b[0m\u001b[1;33m\u001b[0m\u001b[0m\n\u001b[0;32m      3\u001b[0m \u001b[1;33m\u001b[0m\u001b[0m\n\u001b[0;32m      4\u001b[0m \u001b[1;32mfor\u001b[0m \u001b[0mindex\u001b[0m\u001b[1;33m,\u001b[0m \u001b[0mimg_link\u001b[0m \u001b[1;32min\u001b[0m \u001b[0menumerate\u001b[0m\u001b[1;33m(\u001b[0m\u001b[0mlinks\u001b[0m\u001b[1;33m)\u001b[0m\u001b[1;33m:\u001b[0m \u001b[1;31m#same as above, but now index is also givem\u001b[0m\u001b[1;33m\u001b[0m\u001b[1;33m\u001b[0m\u001b[0m\n\u001b[0;32m      5\u001b[0m     \u001b[0mimg_data\u001b[0m \u001b[1;33m=\u001b[0m \u001b[0mreq\u001b[0m\u001b[1;33m.\u001b[0m\u001b[0mget\u001b[0m\u001b[1;33m(\u001b[0m\u001b[0mimg_link\u001b[0m\u001b[1;33m)\u001b[0m\u001b[1;33m.\u001b[0m\u001b[0mcontent\u001b[0m\u001b[1;33m\u001b[0m\u001b[1;33m\u001b[0m\u001b[0m\n",
      "\u001b[1;31mFileExistsError\u001b[0m: [WinError 183] Cannot create a file when that file already exists: 'scraped_photos'"
     ]
    }
   ],
   "source": [
    "os.mkdir('scraped_photos') #create a directory\n",
    "i=-1 #just to name images\n",
    "\n",
    "for index, img_link in enumerate(links): #same as above, but now index is also givem\n",
    "    img_data = req.get(img_link).content\n",
    "    \n",
    "    if(i==15 or i ==73):\n",
    "        with open(\"scraped_photos/\"+str(i+1)+'.jpg', 'wb+') as f:\n",
    "            f.write(img_data)\n",
    "        i=i+2\n",
    "    else:\n",
    "        i += 1\n",
    "    \n",
    "    with open(\"scraped_photos/\"+str(i)+'.jpg', 'wb+') as f:\n",
    "        f.write(img_data)\n",
    "    \n",
    "f.close()"
   ]
  },
  {
   "cell_type": "code",
   "execution_count": 10,
   "metadata": {},
   "outputs": [],
   "source": [
    "#................. names ..........................................................#"
   ]
  },
  {
   "cell_type": "code",
   "execution_count": 11,
   "metadata": {
    "scrolled": true
   },
   "outputs": [
    {
     "output_type": "stream",
     "name": "stdout",
     "text": "0 : \n1. \n Shah Rukh Khan\n \n1 : \n2. \n Aamir Khan\n \n2 : \n3. \n Salman Khan\n \n3 : \n4. \n Katrina Kaif\n \n4 : \n5. \n Kareena Kapoor\n \n5 : \n6. \n Karisma Kapoor\n \n6 : \n7. \n Hrithik Roshan\n \n7 : \n8. \n Priyanka Chopra\n \n8 : \n9. \n Amitabh Bachchan\n \n9 : \n10. \n Ranbir Kapoor\n \n10 : \n11. \n Anushka Sharma\n \n11 : \n12. \n Imran Khan\n \n12 : \n13. \n Deepika Padukone\n \n13 : \n14. \n Ali Zafar\n \n14 : \n15. \n Akshay Kumar\n \n15 : \n16. \n Aishwarya Rai Bachchan\n \n16 : \n17. \n Rani Mukherjee\n \n17 : \n18. \n John Abraham\n \n18 : \n19. \n Bipasha Basu\n \n19 : \n20. \n Rajinikanth\n \n20 : \n21. \n Asin Thottumkal\n \n21 : \n22. \n Dilip Kumar\n \n22 : \n23. \n Hema Malini\n \n23 : \n24. \n Madhuri Dixit\n \n24 : \n25. \n Govinda\n \n25 : \n26. \n Mahie Gill\n \n26 : \n27. \n Preity Zinta\n \n27 : \n28. \n Arshad Warsi\n \n28 : \n29. \n Shilpa Shetty Kundra\n \n29 : \n30. \n Kajol\n \n30 : \n31. \n Sunny Deol\n \n31 : \n32. \n Urmila Matondkar\n \n32 : \n33. \n Saif Ali Khan\n \n33 : \n34. \n Juhi Chawla\n \n34 : \n35. \n Tusshar Kapoor\n \n35 : \n36. \n Lara Dutta\n \n36 : \n37. \n Anil Kapoor\n \n37 : \n38. \n Jacqueline Fernandez\n \n38 : \n39. \n Ranveer Singh\n \n39 : \n40. \n Madhavan\n \n40 : \n41. \n Minissha Lamba\n \n41 : \n42. \n Shreyas Talpade\n \n42 : \n43. \n Shahid Kapoor\n \n43 : \n44. \n Sonam Kapoor\n \n44 : \n45. \n Genelia D'Souza\n \n45 : \n46. \n Irrfan Khan\n \n46 : \n47. \n Sonakshi Sinha\n \n47 : \n48. \n Parineeti Chopra\n \n48 : \n49. \n Vidya Balan\n \n49 : \n50. \n Bobby Deol\n \n50 : \n51. \n Dharmendra\n \n51 : \n52. \n Zareen Khan\n \n52 : \n53. \n Shazahn Padamsee\n \n53 : \n54. \n Riteish Deshmukh\n \n54 : \n55. \n Neil Nitin Mukesh\n \n55 : \n56. \n Naseeruddin Shah\n \n56 : \n57. \n Sharman Joshi\n \n57 : \n58. \n Paresh Rawal\n \n58 : \n59. \n Akshaye Khanna\n \n59 : \n60. \n Twinkle Khanna\n \n60 : \n61. \n Shriya Saran\n \n61 : \n62. \n Mugdha Godse\n \n62 : \n63. \n Rajeev Khandelwal\n \n63 : \n64. \n Omi Vaidya\n \n64 : \n65. \n Aditi Rao Hydari\n \n65 : \n66. \n Celina Jaitly\n \n66 : \n67. \n Mithun Chakraborty\n \n67 : \n68. \n Yami Gautam\n \n68 : \n69. \n Ayushmann Khurrana\n \n69 : \n70. \n Ajay Devgn\n \n70 : \n71. \n Kangana Ranaut\n \n71 : \n72. \n Zayed Khan\n \n72 : \n73. \n Sameera Reddy\n \n73 : \n74. \n Ameesha Patel\n \n74 : \n75. \n Jaaved Jaffery\n \n75 : \n76. \n Sanjay Dutt\n \n76 : \n77. \n Abhay Deol\n \n77 : \n78. \n Kalki Koechlin\n \n78 : \n79. \n Prachi Desai\n \n79 : \n80. \n Manoj Bajpayee\n \n80 : \n81. \n Sonu Sood\n \n81 : \n82. \n Neha Dhupia\n \n82 : \n83. \n Vinay Pathak\n \n83 : \n84. \n Abhishek Bachchan\n \n84 : \n85. \n Sridevi\n \n85 : \n86. \n Arjun Rampal\n \n86 : \n87. \n Farhan Akhtar\n \n87 : \n88. \n Vivek Oberoi\n \n88 : \n89. \n Manisha Koirala\n \n89 : \n90. \n Tabu\n \n90 : \n91. \n Isha Koppikar\n \n91 : \n92. \n Sushmita Sen\n \n92 : \n93. \n Amrita Rao\n \n93 : \n94. \n Chitrangda Singh\n \n94 : \n95. \n Arjun Kapoor\n \n95 : \n96. \n Emraan Hashmi\n \n96 : \n97. \n Mallika Sherawat\n \n97 : \n98. \n Nawazuddin Siddiqui\n \n98 : \n99. \n Aditya Roy Kapoor\n \n99 : \n100. \n Sunny Leone\n \n"
    }
   ],
   "source": [
    "#temp = soup.select('a[href*=\"/name/\"]')                    \n",
    "temp = soup.select(\".lister-item-header\")\n",
    "\n",
    "\n",
    "names = []\n",
    "\n",
    "for index,t in enumerate(temp):\n",
    "    names.append(t.text)\n",
    "    print(str(index)+\" : \"+t.text)"
   ]
  },
  {
   "cell_type": "code",
   "execution_count": 12,
   "metadata": {},
   "outputs": [],
   "source": [
    "names2 = []\n",
    "for index , n in enumerate(names):\n",
    "    replaced_string = n.replace(\"\\n\", \"\")\n",
    "    names2.append( replaced_string)"
   ]
  },
  {
   "cell_type": "code",
   "execution_count": 13,
   "metadata": {},
   "outputs": [],
   "source": [
    "names = []\n",
    "for index , n in enumerate(names2):\n",
    "    replaced_string = n.replace(\" \",\"\")\n",
    "    names.append( replaced_string)"
   ]
  },
  {
   "cell_type": "code",
   "execution_count": 14,
   "metadata": {},
   "outputs": [],
   "source": [
    "names2 = []\n",
    "\n",
    "for n in names:\n",
    "    trim_length = n.find('.')\n",
    "    names2.append(n[trim_length+1:])\n",
    "    "
   ]
  },
  {
   "cell_type": "code",
   "execution_count": 15,
   "metadata": {
    "scrolled": true
   },
   "outputs": [],
   "source": [
    "#names2"
   ]
  },
  {
   "cell_type": "code",
   "execution_count": 16,
   "metadata": {
    "scrolled": true
   },
   "outputs": [],
   "source": [
    "names = []\n",
    "\n",
    "import re \n",
    "def putSpace(input):  \n",
    "    words = re.findall('[A-Z][a-z]*', input) \n",
    "    result = [] \n",
    "    for word in words: \n",
    "        word = chr( ord (word[0]) + 32) + word[1:] \n",
    "        result.append(word) \n",
    "    names.append(' '.join(result))\n",
    "    \n",
    "    \n",
    "for n in names2:\n",
    "    putSpace(n)"
   ]
  },
  {
   "cell_type": "code",
   "execution_count": 17,
   "metadata": {
    "scrolled": true
   },
   "outputs": [],
   "source": [
    "#names"
   ]
  },
  {
   "cell_type": "code",
   "execution_count": 18,
   "metadata": {},
   "outputs": [],
   "source": [
    "# ......................................................................"
   ]
  },
  {
   "cell_type": "code",
   "execution_count": 19,
   "metadata": {},
   "outputs": [],
   "source": [
    "temp = soup.select(\"p\")"
   ]
  },
  {
   "cell_type": "code",
   "execution_count": 20,
   "metadata": {},
   "outputs": [],
   "source": [
    "bio = []\n",
    "for i,t in enumerate(temp):\n",
    "    bio.append(t.text)"
   ]
  },
  {
   "cell_type": "code",
   "execution_count": 21,
   "metadata": {},
   "outputs": [
    {
     "output_type": "execute_result",
     "data": {
      "text/plain": "'\\n                        Actor |\\n Don 2\\n '"
     },
     "metadata": {},
     "execution_count": 21
    }
   ],
   "source": [
    "bio.pop(0)"
   ]
  },
  {
   "cell_type": "code",
   "execution_count": 22,
   "metadata": {},
   "outputs": [],
   "source": [
    "for i in range(100):\n",
    "    bio.pop(i+1)"
   ]
  },
  {
   "cell_type": "code",
   "execution_count": 23,
   "metadata": {},
   "outputs": [],
   "source": [
    "#bio"
   ]
  },
  {
   "cell_type": "code",
   "execution_count": 24,
   "metadata": {},
   "outputs": [],
   "source": [
    "bio2 = []\n",
    "for index , b in enumerate(bio):\n",
    "    replaced_string = b.replace(\"\\n    \", \"\")\n",
    "    bio2.append(replaced_string)"
   ]
  },
  {
   "cell_type": "code",
   "execution_count": 25,
   "metadata": {},
   "outputs": [],
   "source": [
    "#bio2"
   ]
  },
  {
   "cell_type": "code",
   "execution_count": 26,
   "metadata": {},
   "outputs": [],
   "source": [
    "#[.....................................................]"
   ]
  },
  {
   "cell_type": "code",
   "execution_count": null,
   "metadata": {},
   "outputs": [],
   "source": []
  },
  {
   "cell_type": "code",
   "execution_count": 27,
   "metadata": {},
   "outputs": [],
   "source": [
    "import pandas as pd\n",
    "\n",
    "actor_data = pd.DataFrame(\n",
    "    {'Name': names,\n",
    "     'Biodata': bio2\n",
    "    })"
   ]
  },
  {
   "cell_type": "code",
   "execution_count": 28,
   "metadata": {},
   "outputs": [
    {
     "output_type": "execute_result",
     "data": {
      "text/plain": "                   Name                                            Biodata\n0        shah rukh khan  Shahrukh Khan was born on 2 November 1965 in N...\n1            aamir khan  Aamir is no doubt one of the most dedicated ac...\n2           salman khan  Born on December 27, 1965 Salman Khan is the s...\n3          katrina kaif  Katrina Kaif is one of eight siblings, 7 girls...\n4        kareena kapoor  Kareena was born to Sindhi-speaking Babita (ne...\n..                  ...                                                ...\n95        emraan hashmi  Emraan Hashmi was born 24 March 1979) is an In...\n96     mallika sherawat  Mallika Sherawat was born on October 24, 1976 ...\n97  nawazuddin siddiqui  Nawazuddin Siddiqui (born 1974) also known as ...\n98    aditya roy kapoor  Aditya Roy Kapoor was born on November 16, 198...\n99          sunny leone  Born in Ontario, Canada, Sunny Leone grew up i...\n\n[100 rows x 2 columns]",
      "text/html": "<div>\n<style scoped>\n    .dataframe tbody tr th:only-of-type {\n        vertical-align: middle;\n    }\n\n    .dataframe tbody tr th {\n        vertical-align: top;\n    }\n\n    .dataframe thead th {\n        text-align: right;\n    }\n</style>\n<table border=\"1\" class=\"dataframe\">\n  <thead>\n    <tr style=\"text-align: right;\">\n      <th></th>\n      <th>Name</th>\n      <th>Biodata</th>\n    </tr>\n  </thead>\n  <tbody>\n    <tr>\n      <th>0</th>\n      <td>shah rukh khan</td>\n      <td>Shahrukh Khan was born on 2 November 1965 in N...</td>\n    </tr>\n    <tr>\n      <th>1</th>\n      <td>aamir khan</td>\n      <td>Aamir is no doubt one of the most dedicated ac...</td>\n    </tr>\n    <tr>\n      <th>2</th>\n      <td>salman khan</td>\n      <td>Born on December 27, 1965 Salman Khan is the s...</td>\n    </tr>\n    <tr>\n      <th>3</th>\n      <td>katrina kaif</td>\n      <td>Katrina Kaif is one of eight siblings, 7 girls...</td>\n    </tr>\n    <tr>\n      <th>4</th>\n      <td>kareena kapoor</td>\n      <td>Kareena was born to Sindhi-speaking Babita (ne...</td>\n    </tr>\n    <tr>\n      <th>...</th>\n      <td>...</td>\n      <td>...</td>\n    </tr>\n    <tr>\n      <th>95</th>\n      <td>emraan hashmi</td>\n      <td>Emraan Hashmi was born 24 March 1979) is an In...</td>\n    </tr>\n    <tr>\n      <th>96</th>\n      <td>mallika sherawat</td>\n      <td>Mallika Sherawat was born on October 24, 1976 ...</td>\n    </tr>\n    <tr>\n      <th>97</th>\n      <td>nawazuddin siddiqui</td>\n      <td>Nawazuddin Siddiqui (born 1974) also known as ...</td>\n    </tr>\n    <tr>\n      <th>98</th>\n      <td>aditya roy kapoor</td>\n      <td>Aditya Roy Kapoor was born on November 16, 198...</td>\n    </tr>\n    <tr>\n      <th>99</th>\n      <td>sunny leone</td>\n      <td>Born in Ontario, Canada, Sunny Leone grew up i...</td>\n    </tr>\n  </tbody>\n</table>\n<p>100 rows × 2 columns</p>\n</div>"
     },
     "metadata": {},
     "execution_count": 28
    }
   ],
   "source": [
    "actor_data"
   ]
  },
  {
   "cell_type": "code",
   "execution_count": 29,
   "metadata": {},
   "outputs": [],
   "source": [
    "# [..................................................]"
   ]
  },
  {
   "cell_type": "code",
   "execution_count": 30,
   "metadata": {},
   "outputs": [],
   "source": [
    "import cv2\n",
    "import os\n",
    "\n",
    "def load_images_from_folder(folder):\n",
    "    images = []\n",
    "    for filename in os.listdir(folder):\n",
    "        img = cv2.imread(os.path.join(folder,filename))\n",
    "        if img is not None:\n",
    "            images.append(img)\n",
    "    return images\n",
    "\n",
    "folder = \"scraped_photos\"\n",
    "images = load_images_from_folder(folder)"
   ]
  },
  {
   "cell_type": "code",
   "execution_count": 31,
   "metadata": {},
   "outputs": [
    {
     "output_type": "execute_result",
     "data": {
      "text/plain": "list"
     },
     "metadata": {},
     "execution_count": 31
    }
   ],
   "source": [
    "type(images)"
   ]
  },
  {
   "cell_type": "code",
   "execution_count": 32,
   "metadata": {},
   "outputs": [
    {
     "output_type": "execute_result",
     "data": {
      "text/plain": "3"
     },
     "metadata": {},
     "execution_count": 32
    }
   ],
   "source": [
    "dataset = {'Images' : images, 'Name' : names , 'Biodata' : bio2}\n",
    "len(dataset)"
   ]
  },
  {
   "cell_type": "code",
   "execution_count": 33,
   "metadata": {
    "scrolled": true
   },
   "outputs": [
    {
     "output_type": "execute_result",
     "data": {
      "text/plain": "['shah rukh khan',\n 'aamir khan',\n 'salman khan',\n 'katrina kaif',\n 'kareena kapoor']"
     },
     "metadata": {},
     "execution_count": 33
    }
   ],
   "source": [
    "dataset['Name'][0:5]"
   ]
  },
  {
   "cell_type": "code",
   "execution_count": 34,
   "metadata": {},
   "outputs": [
    {
     "output_type": "execute_result",
     "data": {
      "text/plain": "['Shahrukh Khan was born on 2 November 1965 in New Delhi, India. He married Gauri Khan on 25 October 1991. They have three children, son Aryan Khan (b. 1997), son AbRam (b.2013) and daughter Suhana (b. 2000). Khan started out his career by appearing in several television serials during 1988-1990. He ...                ',\n \"Aamir is no doubt one of the most dedicated actors in this world. With his recent success in India and China markets combined he has got the title of World's Biggest Superstar. He went through rapid transformations in his body structure for his films to bring out the reality factor in his ...                \",\n \"Born on December 27, 1965 Salman Khan is the son of the legendary writer Salim Khan, who penned many super-hits in the yesteryear's like Sholay (1975), Deewaar (1975), and Don (1978). Salman started his acting carrier in 1988 by doing a supporting role in the movie Biwi Ho To Aisi (1988). The ...                \",\n 'Katrina Kaif is one of eight siblings, 7 girls and 1 boy, from a mother who is a Caucasian of British Nationality, and a father who was formerly from Kashmir, India, but who has since acquired British citizenship. Her mother is now re-settled in Chennai (formerly known as Madras), the Capital of ...                ',\n 'Kareena was born to Sindhi-speaking Babita (nee Shivdasani) and Punjabi-speaking Randhir Kapoor in Bombay, India. She has an elder sister, Karisma.She is born in a family that have been actors for generations, including her paternal great-grandfather, Prithviraj Kapoor; her grandfather, Raj Kapoor;...                ']"
     },
     "metadata": {},
     "execution_count": 34
    }
   ],
   "source": [
    "dataset['Biodata'][0:5]"
   ]
  },
  {
   "cell_type": "code",
   "execution_count": 35,
   "metadata": {},
   "outputs": [],
   "source": [
    "final_data = pd.DataFrame.from_dict(dataset)"
   ]
  },
  {
   "cell_type": "code",
   "execution_count": 36,
   "metadata": {},
   "outputs": [
    {
     "output_type": "execute_result",
     "data": {
      "text/plain": "                                              Images            Name  \\\n0  [[[160, 172, 174], [160, 172, 174], [161, 173,...  shah rukh khan   \n1  [[[15, 71, 76], [15, 71, 76], [14, 72, 77], [1...      aamir khan   \n2  [[[250, 250, 250], [250, 250, 250], [250, 250,...     salman khan   \n3  [[[82, 84, 102], [81, 83, 101], [81, 84, 99], ...    katrina kaif   \n4  [[[6, 1, 3], [6, 1, 3], [6, 1, 3], [6, 1, 3], ...  kareena kapoor   \n\n                                             Biodata  \n0  Shahrukh Khan was born on 2 November 1965 in N...  \n1  Aamir is no doubt one of the most dedicated ac...  \n2  Born on December 27, 1965 Salman Khan is the s...  \n3  Katrina Kaif is one of eight siblings, 7 girls...  \n4  Kareena was born to Sindhi-speaking Babita (ne...  ",
      "text/html": "<div>\n<style scoped>\n    .dataframe tbody tr th:only-of-type {\n        vertical-align: middle;\n    }\n\n    .dataframe tbody tr th {\n        vertical-align: top;\n    }\n\n    .dataframe thead th {\n        text-align: right;\n    }\n</style>\n<table border=\"1\" class=\"dataframe\">\n  <thead>\n    <tr style=\"text-align: right;\">\n      <th></th>\n      <th>Images</th>\n      <th>Name</th>\n      <th>Biodata</th>\n    </tr>\n  </thead>\n  <tbody>\n    <tr>\n      <th>0</th>\n      <td>[[[160, 172, 174], [160, 172, 174], [161, 173,...</td>\n      <td>shah rukh khan</td>\n      <td>Shahrukh Khan was born on 2 November 1965 in N...</td>\n    </tr>\n    <tr>\n      <th>1</th>\n      <td>[[[15, 71, 76], [15, 71, 76], [14, 72, 77], [1...</td>\n      <td>aamir khan</td>\n      <td>Aamir is no doubt one of the most dedicated ac...</td>\n    </tr>\n    <tr>\n      <th>2</th>\n      <td>[[[250, 250, 250], [250, 250, 250], [250, 250,...</td>\n      <td>salman khan</td>\n      <td>Born on December 27, 1965 Salman Khan is the s...</td>\n    </tr>\n    <tr>\n      <th>3</th>\n      <td>[[[82, 84, 102], [81, 83, 101], [81, 84, 99], ...</td>\n      <td>katrina kaif</td>\n      <td>Katrina Kaif is one of eight siblings, 7 girls...</td>\n    </tr>\n    <tr>\n      <th>4</th>\n      <td>[[[6, 1, 3], [6, 1, 3], [6, 1, 3], [6, 1, 3], ...</td>\n      <td>kareena kapoor</td>\n      <td>Kareena was born to Sindhi-speaking Babita (ne...</td>\n    </tr>\n  </tbody>\n</table>\n</div>"
     },
     "metadata": {},
     "execution_count": 36
    }
   ],
   "source": [
    "final_data[0:5]"
   ]
  },
  {
   "cell_type": "code",
   "execution_count": 37,
   "metadata": {},
   "outputs": [],
   "source": [
    "final_data.to_csv(\"celeb_scrapped_data.csv\")"
   ]
  },
  {
   "cell_type": "code",
   "execution_count": null,
   "metadata": {},
   "outputs": [],
   "source": []
  }
 ],
 "metadata": {
  "kernelspec": {
   "display_name": "Python 3",
   "language": "python",
   "name": "python3"
  },
  "language_info": {
   "codemirror_mode": {
    "name": "ipython",
    "version": 3
   },
   "file_extension": ".py",
   "mimetype": "text/x-python",
   "name": "python",
   "nbconvert_exporter": "python",
   "pygments_lexer": "ipython3",
   "version": "3.7.6-final"
  }
 },
 "nbformat": 4,
 "nbformat_minor": 2
}