{
 "cells": [
  {
   "cell_type": "code",
   "execution_count": 1,
   "metadata": {},
   "outputs": [],
   "source": [
    "# Importing the libraries\n",
    "import numpy as np\n",
    "import matplotlib.pyplot as plt\n",
    "import pandas as pd"
   ]
  },
  {
   "cell_type": "code",
   "execution_count": 3,
   "metadata": {},
   "outputs": [
    {
     "output_type": "stream",
     "name": "stderr",
     "text": "Skipping line 10: Expected 1 fields in line 10, saw 2. Error could possibly be due to quotes being ignored when a multi-char delimiter is used.\nSkipping line 85: Expected 1 fields in line 85, saw 2. Error could possibly be due to quotes being ignored when a multi-char delimiter is used.\nSkipping line 335: Expected 1 fields in line 335, saw 2. Error could possibly be due to quotes being ignored when a multi-char delimiter is used.\nSkipping line 731: Expected 1 fields in line 731, saw 2. Error could possibly be due to quotes being ignored when a multi-char delimiter is used.\nSkipping line 798: Expected 1 fields in line 798, saw 2. Error could possibly be due to quotes being ignored when a multi-char delimiter is used.\nSkipping line 859: Expected 1 fields in line 859, saw 2. Error could possibly be due to quotes being ignored when a multi-char delimiter is used.\nSkipping line 1693: Expected 1 fields in line 1693, saw 2. Error could possibly be due to quotes being ignored when a multi-char delimiter is used.\nSkipping line 1818: Expected 1 fields in line 1818, saw 2. Error could possibly be due to quotes being ignored when a multi-char delimiter is used.\nSkipping line 1820: Expected 1 fields in line 1820, saw 2. Error could possibly be due to quotes being ignored when a multi-char delimiter is used.\nSkipping line 1965: Expected 1 fields in line 1965, saw 2. Error could possibly be due to quotes being ignored when a multi-char delimiter is used.\nSkipping line 2216: Expected 1 fields in line 2216, saw 2. Error could possibly be due to quotes being ignored when a multi-char delimiter is used.\nSkipping line 2225: Expected 1 fields in line 2225, saw 2. Error could possibly be due to quotes being ignored when a multi-char delimiter is used.\nSkipping line 2261: Expected 1 fields in line 2261, saw 2. Error could possibly be due to quotes being ignored when a multi-char delimiter is used.\nSkipping line 2283: Expected 1 fields in line 2283, saw 2. Error could possibly be due to quotes being ignored when a multi-char delimiter is used.\nSkipping line 2332: Expected 1 fields in line 2332, saw 2. Error could possibly be due to quotes being ignored when a multi-char delimiter is used.\n"
    }
   ],
   "source": [
    "# Importing the dataset\n",
    "dataset = pd.read_csv('personality_traits_datection_dataset.tsv', delimiter = '/t', quoting = 2,error_bad_lines=False)"
   ]
  },
  {
   "cell_type": "code",
   "execution_count": 4,
   "metadata": {},
   "outputs": [
    {
     "output_type": "execute_result",
     "data": {
      "text/plain": "2452"
     },
     "metadata": {},
     "execution_count": 4
    }
   ],
   "source": [
    "len(dataset)"
   ]
  },
  {
   "cell_type": "code",
   "execution_count": 5,
   "metadata": {},
   "outputs": [
    {
     "output_type": "stream",
     "name": "stdout",
     "text": "0 : #AUTHID\tTEXT\tcEXT\tcNEU\tcAGR\tcCON\tcOPN\n"
    }
   ],
   "source": [
    "for i,k in enumerate(dataset.keys()):\n",
    "    print(str(i)+\" : \"+k)"
   ]
  },
  {
   "cell_type": "code",
   "execution_count": 6,
   "metadata": {},
   "outputs": [],
   "source": [
    "new_key = \"combined_keys\"\n",
    "old_key = \"#AUTHID\tTEXT\tcEXT\tcNEU\tcAGR\tcCON\tcOPN\"\n",
    "dataset[new_key] = dataset.pop(old_key)"
   ]
  },
  {
   "cell_type": "code",
   "execution_count": 7,
   "metadata": {},
   "outputs": [
    {
     "output_type": "stream",
     "name": "stdout",
     "text": "0 : combined_keys\n"
    }
   ],
   "source": [
    "for i,k in enumerate(dataset.keys()):\n",
    "    print(str(i)+\" : \"+k)"
   ]
  },
  {
   "cell_type": "code",
   "execution_count": 8,
   "metadata": {},
   "outputs": [],
   "source": [
    "column_names = [\"id\", \"Review\", \"Extroversion\", \"Neuroticism\", \"Agreeableness\" , \"Conscientiousness\" , \"Openness\"]\n",
    "df = pd.DataFrame(columns = column_names) #create empty dataframe df\n",
    "\n",
    "for i in range(len(dataset)):\n",
    "    row = temp = dataset['combined_keys'][i]\n",
    "    row = row.split('\\t')\n",
    "\n",
    "    if(row[2]=='y'):\n",
    "        row[2]=1\n",
    "    if(row[3]=='y'):\n",
    "        row[3]=1\n",
    "    if(row[4]=='y'):\n",
    "        row[4]=1\n",
    "    if(row[5]=='y'):\n",
    "        row[5]=1\n",
    "    if(row[6]=='y'):\n",
    "        row[6]=1\n",
    "\n",
    "    if(row[2]=='n'):\n",
    "        row[2]=0\n",
    "    if(row[3]=='n'):\n",
    "        row[3]=0\n",
    "    if(row[4]=='n'):\n",
    "        row[4]=0\n",
    "    if(row[5]=='n'):\n",
    "        row[5]=0\n",
    "    if(row[6]=='n'):\n",
    "        row[6]=0\n",
    "    #appending 2452 list (each containing 7 things) as a row to dataframe\n",
    "    to_append = row\n",
    "    df_length = len(df)\n",
    "    df.loc[df_length] = to_append"
   ]
  },
  {
   "cell_type": "code",
   "execution_count": 9,
   "metadata": {},
   "outputs": [],
   "source": [
    "df.drop('id', axis=1, inplace=True)"
   ]
  },
  {
   "cell_type": "code",
   "execution_count": 10,
   "metadata": {},
   "outputs": [],
   "source": [
    "dataset = df"
   ]
  },
  {
   "cell_type": "code",
   "execution_count": 11,
   "metadata": {},
   "outputs": [],
   "source": [
    "dataset.to_csv(\"improved_personality_traits_datection_dataset.csv\")\n"
   ]
  }
 ],
 "metadata": {
  "language_info": {
   "codemirror_mode": {
    "name": "ipython",
    "version": 3
   },
   "file_extension": ".py",
   "mimetype": "text/x-python",
   "name": "python",
   "nbconvert_exporter": "python",
   "pygments_lexer": "ipython3",
   "version": "3.7.6-final"
  },
  "orig_nbformat": 2,
  "kernelspec": {
   "name": "python3",
   "display_name": "Python 3"
  }
 },
 "nbformat": 4,
 "nbformat_minor": 2
}